{
 "cells": [
  {
   "cell_type": "code",
   "execution_count": 3,
   "id": "fe8bad03-36e7-4fe2-a21b-50d6daf691f0",
   "metadata": {},
   "outputs": [],
   "source": [
    "import PyPDF2\n",
    "from docx import Document\n",
    "import re\n",
    "import en_core_web_sm\n",
    "import pdfplumber\n",
    "import os\n"
   ]
  },
  {
   "cell_type": "code",
   "execution_count": 4,
   "id": "e4a660b2-9adb-42fc-bd25-c2bd8604ce59",
   "metadata": {},
   "outputs": [],
   "source": [
    "nlp = en_core_web_sm.load()"
   ]
  },
  {
   "cell_type": "code",
   "execution_count": 5,
   "id": "f6c18613-0e59-418e-aff3-c58e5773d3cf",
   "metadata": {},
   "outputs": [],
   "source": [
    "def extract_text_from_pdf(file_path):\n",
    "    with pdfplumber.open(file_path) as pdf:\n",
    "        text = \"\"\n",
    "        for page in pdf.pages:\n",
    "            text += page.extract_text()\n",
    "    return text\n"
   ]
  },
  {
   "cell_type": "code",
   "execution_count": 6,
   "id": "f9b381de-f70d-4aa7-bd56-4db0958d7eae",
   "metadata": {},
   "outputs": [],
   "source": [
    "def extract_text_from_word(file_path):\n",
    "    doc = Document(file_path)\n",
    "    text = \" \".join([paragraph.text for paragraph in doc.paragraphs])\n",
    "    return text"
   ]
  },
  {
   "cell_type": "code",
   "execution_count": 7,
   "id": "59bbfea2-90ca-4bd4-8c77-9c2d096c0fd7",
   "metadata": {},
   "outputs": [],
   "source": [
    "def extract_name(text):\n",
    "    lines = text.split('\\n')\n",
    "    for line in lines:\n",
    "        if re.search(r'\\b[A-Za-z0-9._%+-]+@[A-Za-z0-9.-]+\\.[A-Z|a-z]{2,}\\b', line) or re.search(r'\\(?\\d{3}\\)?[-.\\s]??\\d{3}[-.\\s]??\\d{4}', line):\n",
    "            continue\n",
    "        if len(line.split()) > 1 and re.search(r'[a-zA-Z]', line):\n",
    "            return line\n",
    "    return \"Unknown\"\n"
   ]
  },
  {
   "cell_type": "code",
   "execution_count": 8,
   "id": "ea363127-910e-47de-a43f-95e49c326fc0",
   "metadata": {},
   "outputs": [],
   "source": [
    "def extract_email_from_resume(text):\n",
    "    email = re.findall(r'\\b[A-Za-z0-9._%+-]+@[A-Za-z0-9.-]+\\.[A-Z|a-z]{2,}\\b', text)\n",
    "    return email[0] if email else None"
   ]
  },
  {
   "cell_type": "code",
   "execution_count": 9,
   "id": "587f100f-dbd2-415d-86cd-0234ecf4c2d2",
   "metadata": {},
   "outputs": [],
   "source": [
    "def extract_contact_number_from_resume(text):\n",
    "    contact_number = []\n",
    "    pattern = r\"(\\+\\d{1,3}[-\\.\\s]?\\d{1,4}[-\\.\\s]?\\d{1,4}[-\\.\\s]?\\d{1,4})|(\\(\\d{2,6}\\)\\s*\\d{1,5}[-\\.\\s]*\\d{1,5}[-\\.\\s]*\\d{1,5})|(\\d{3,5}[-\\.\\s]?\\d{1,5}[-\\.\\s]?\\d{1,5})\"\n",
    "    matches = re.findall(pattern, text)\n",
    "    for match in matches:\n",
    "        contact_number.append(''.join(re.findall(r'\\d', ''.join(match))))\n",
    "    return contact_number"
   ]
  },
  {
   "cell_type": "code",
   "execution_count": 10,
   "id": "8d84dedb-446e-460f-befe-a2f915582162",
   "metadata": {},
   "outputs": [],
   "source": [
    "def extract_education_from_resume(text):\n",
    "    education = []\n",
    "    education_keywords = [\n",
    "        'Bachelor', 'B.Sc', 'B.A', 'B.Com', 'B.Tech', 'BEng', 'BArch',\n",
    "        'Master', 'M.Sc', 'M.A', 'M.Com', 'M.Tech', 'MEng', 'MS',\n",
    "        'PhD', 'DBA', 'DPhil',\n",
    "        'Diploma', 'Certificate',\n",
    "        'High School', 'SSC', 'HSC', '10th', '12th'\n",
    "    ]\n",
    "    for keyword in education_keywords:\n",
    "        pattern = r\"(?i)\\b{}\\b\".format(re.escape(keyword))\n",
    "        matches = re.findall(pattern, text)\n",
    "        education.extend(matches)\n",
    "    return list(set(education))"
   ]
  },
  {
   "cell_type": "code",
   "execution_count": 11,
   "id": "1ce794fb-a027-4a85-97f8-aba8592cce02",
   "metadata": {},
   "outputs": [],
   "source": [
    "def extract_skills_from_resume(text, skills_list):\n",
    "    escaped_skills = [re.escape(skill) for skill in skills_list]\n",
    "    pattern = '|'.join(escaped_skills)\n",
    "    skills = set(re.findall(pattern, text, re.IGNORECASE))\n",
    "    return skills"
   ]
  },
  {
   "cell_type": "code",
   "execution_count": 12,
   "id": "95bd3626-5695-4bb7-9e53-c4e6ecab0b5c",
   "metadata": {},
   "outputs": [],
   "source": [
    "def extract_job_data(text):\n",
    "    doc = nlp(text)\n",
    "    job_titles = []\n",
    "    job_dates = []\n",
    "    for ent in doc.ents:\n",
    "        if ent.label_ == 'JOB_TITLE':\n",
    "            job_titles.append(ent.text)\n",
    "        elif ent.label_ == 'DATE':\n",
    "            job_dates.append(ent.text)\n",
    "    return job_titles, job_dates"
   ]
  },
  {
   "cell_type": "code",
   "execution_count": 13,
   "id": "af4b4f9b-758a-485c-857e-a28f669cb5f1",
   "metadata": {},
   "outputs": [],
   "source": [
    "def extract_resume_sections(text):\n",
    "    education_section = extract_education_from_resume(text)\n",
    "    skills_section = extract_skills_from_resume(text, [\n",
    "        'Python', 'Java', 'C++', 'JavaScript', 'HTML', 'CSS', 'SQL',\n",
    "        'React', 'Angular', 'Vue', 'Node.js', 'Express.js',\n",
    "        'Django', 'Flask', 'Spring Boot',\n",
    "        'MySQL', 'PostgreSQL', 'MongoDB',\n",
    "        'AWS', 'GCP', 'Azure',\n",
    "        'Docker', 'Kubernetes',\n",
    "        'Git', 'SVN',\n",
    "        'Agile', 'Scrum',\n",
    "        'Machine Learning', 'Data Science', 'AI', 'Artificial Intelligence',\n",
    "        'Deep Learning', 'Neural Networks',\n",
    "        'NLP', 'Natural Language Processing',\n",
    "        'Computer Vision',\n",
    "        'Big Data', 'Hadoop', 'Spark',\n",
    "        'Tableau', 'Power BI', 'Data Visualization',\n",
    "        # Add more skills as needed\n",
    "    ])\n",
    "    job_titles, job_dates = extract_job_data(text)\n",
    "    general_section = text\n",
    "\n",
    "    "
   ]
  },
  {
   "cell_type": "code",
   "execution_count": 14,
   "id": "e3c02ff0-b5e6-4494-8146-fb21904ec8ab",
   "metadata": {},
   "outputs": [],
   "source": [
    "def extract_job_titles(text):\n",
    "    doc = nlp(text)\n",
    "    job_titles = [ent.text for ent in doc.ents if ent.label_ == 'JOB_TITLE']\n",
    "    return job_titles"
   ]
  },
  {
   "cell_type": "code",
   "execution_count": 15,
   "id": "adacd434-122f-417e-86f8-19bb78de9116",
   "metadata": {},
   "outputs": [],
   "source": [
    "def extract_job_titles(text):\n",
    "    doc = nlp(text)\n",
    "    job_titles = [ent.text for ent in doc.ents if ent.label_ == 'JOB_TITLE']\n",
    "    return job_titles\n",
    "\n",
    "def print_extracted_data(name, email, phone_number, education_section, skills_section, job_titles, job_dates, general_section):\n",
    "    print(\"\\n------------------- RESUME DETAILS -------------------\")\n",
    "    print(f\"Name: {name}\")\n",
    "\n",
    "    if email:\n",
    "        print(f\"Email: {email}\")\n",
    "\n",
    "    if phone_number:\n",
    "        print(f\"Phone Number: {phone_number}\")\n",
    "\n",
    "    print(\"\\n\\nEducation Section:\")\n",
    "    for e in education_section:\n",
    "        print(f\"- {e}\")\n",
    "\n",
    "    print(\"\\n\\nSkills Section:\")\n",
    "    for s in skills_section:\n",
    "        print(f\"- {s}\")\n",
    "\n",
    "    print(\"\\n\\nJob Titles:\")\n",
    "    if job_titles:\n",
    "        for title, date in zip(job_titles, job_dates):\n",
    "            print(f\"- {title} ({date})\")\n",
    "    else:\n",
    "        print(\"No previous career.\")\n",
    "\n",
    "    print(\"\\n\\nGeneral Section:\")\n",
    "    print(general_section)\n",
    "\n",
    "    print(\"\\n\\nCareer Trajectory:\")\n",
    "    if job_titles:\n",
    "        trajectory = sorted(zip(job_titles, job_dates), key=lambda x: x[1])\n",
    "        trajectory_str = \" --> \".join([f\"{title} ({date})\" for title, date in trajectory])\n",
    "        print(trajectory_str)\n",
    "    else:\n",
    "        print(\"No previous career.\")"
   ]
  },
  {
   "cell_type": "code",
   "execution_count": 16,
   "id": "6e28b282-dc04-431a-b2f0-8be695fa2f76",
   "metadata": {},
   "outputs": [
    {
     "ename": "TypeError",
     "evalue": "'NoneType' object is not subscriptable",
     "output_type": "error",
     "traceback": [
      "\u001b[1;31m---------------------------------------------------------------------------\u001b[0m",
      "\u001b[1;31mTypeError\u001b[0m                                 Traceback (most recent call last)",
      "Cell \u001b[1;32mIn[16], line 15\u001b[0m\n\u001b[0;32m     12\u001b[0m sections \u001b[38;5;241m=\u001b[39m extract_resume_sections(text)\n\u001b[0;32m     14\u001b[0m \u001b[38;5;66;03m# Extract the different sections from the dictionary\u001b[39;00m\n\u001b[1;32m---> 15\u001b[0m name \u001b[38;5;241m=\u001b[39m \u001b[43msections\u001b[49m\u001b[43m[\u001b[49m\u001b[38;5;124;43m'\u001b[39;49m\u001b[38;5;124;43mname\u001b[39;49m\u001b[38;5;124;43m'\u001b[39;49m\u001b[43m]\u001b[49m\n\u001b[0;32m     16\u001b[0m email \u001b[38;5;241m=\u001b[39m sections[\u001b[38;5;124m'\u001b[39m\u001b[38;5;124memail\u001b[39m\u001b[38;5;124m'\u001b[39m]\n\u001b[0;32m     17\u001b[0m phone_number \u001b[38;5;241m=\u001b[39m sections[\u001b[38;5;124m'\u001b[39m\u001b[38;5;124mphone_number\u001b[39m\u001b[38;5;124m'\u001b[39m]\n",
      "\u001b[1;31mTypeError\u001b[0m: 'NoneType' object is not subscriptable"
     ]
    }
   ],
   "source": [
    "folder_path = \"resume_datasets/\"\n",
    "file_name = input(\"\\n\\nPlease input the name of your resume file (e.g., sample_resume.pdf): \")\n",
    "file_path = os.path.join(folder_path, file_name)\n",
    "text = \"\"\n",
    "if file_name.endswith('.pdf'):\n",
    "    text = extract_text_from_pdf(file_path)\n",
    "elif file_name.endswith('.docx'):\n",
    "    text = extract_text_from_word(file_path)\n",
    "else:\n",
    "    print(\"\\nUnsupported file format. Please provide a PDF or DOCX file.\")\n",
    "\n",
    "sections = extract_resume_sections(text)\n",
    "\n",
    "# Extract the different sections from the dictionary\n",
    "name = sections['name']\n",
    "email = sections['email']\n",
    "phone_number = sections['phone_number']\n",
    "education_section = sections['education']\n",
    "skills_section = sections['skills']\n",
    "job_titles = sections['job_titles']\n",
    "job_dates = sections['job_dates']\n",
    "general_section = sections['general']\n",
    "print_extracted_data(name, email, phone_number, education_section, skills_section, job_titles, job_dates, general_section)\n",
    "\n"
   ]
  },
  {
   "cell_type": "code",
   "execution_count": null,
   "id": "da18f22e-332e-4db9-9796-bfdb77e031fa",
   "metadata": {},
   "outputs": [],
   "source": []
  }
 ],
 "metadata": {
  "kernelspec": {
   "display_name": "Python 3 (ipykernel)",
   "language": "python",
   "name": "python3"
  },
  "language_info": {
   "codemirror_mode": {
    "name": "ipython",
    "version": 3
   },
   "file_extension": ".py",
   "mimetype": "text/x-python",
   "name": "python",
   "nbconvert_exporter": "python",
   "pygments_lexer": "ipython3",
   "version": "3.9.12"
  }
 },
 "nbformat": 4,
 "nbformat_minor": 5
}
